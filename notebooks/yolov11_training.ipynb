{
 "cells": [
  {
   "cell_type": "code",
   "execution_count": null,
   "metadata": {
    "colab": {
     "base_uri": "https://localhost:8080/"
    },
    "id": "cFdPUQlmRPbN",
    "outputId": "5cc0e357-733a-4b80-c5c9-305c07fab739"
   },
   "outputs": [],
   "source": [
    "!pip install ultralytics\n",
    "!pip install roboflow"
   ]
  },
  {
   "cell_type": "code",
   "execution_count": null,
   "metadata": {
    "colab": {
     "base_uri": "https://localhost:8080/"
    },
    "id": "zobpxDttVIpy",
    "outputId": "e2c24e41-a5c3-4535-a63a-2abdd32d67a7"
   },
   "outputs": [],
   "source": [
    "from roboflow import Roboflow\n",
    "rf = Roboflow(api_key=\"5CEachu43Ay9HG3H0i9Y\")\n",
    "project = rf.workspace(\"cap-defect-detection\").project(\"cap-2\")\n",
    "version = project.version(4)\n",
    "dataset = version.download(\"yolov11\")"
   ]
  },
  {
   "cell_type": "code",
   "execution_count": null,
   "metadata": {
    "colab": {
     "base_uri": "https://localhost:8080/",
     "height": 1000
    },
    "id": "xTpsV7YoRJKb",
    "outputId": "368ac33a-9508-4a0b-c465-6ebcb20bc5ed"
   },
   "outputs": [],
   "source": [
    "from ultralytics import YOLO\n",
    "\n",
    "# Load a model with pretrained weights\n",
    "model = YOLO(\"yolo11n.pt\")\n",
    "\n",
    "# TODO, andare in CAP-2-4/data.yaml e mettere gli absolute paths of train, valid, test\n",
    "\n",
    "# Train the model\n",
    "train_results = model.train(\n",
    "    data=\"CAP-2-4/data.yaml\",  # path to dataset YAML\n",
    "    epochs=100,  # number of training epochs\n",
    "    save=True,\n",
    "    save_period=10,\n",
    "    exist_ok=True,\n",
    "    device=\"mps\",\n",
    "    imgsz=256\n",
    ")"
   ]
  },
  {
   "cell_type": "code",
   "execution_count": null,
   "metadata": {
    "colab": {
     "base_uri": "https://localhost:8080/"
    },
    "id": "yz-xbPb6HzSx",
    "outputId": "bd37f5c3-2083-44f0-d624-4c7919506536"
   },
   "outputs": [],
   "source": [
    "from ultralytics import YOLO\n",
    "\n",
    "# Load a model\n",
    "# model = YOLO(\"runs/detect/train/weights/best.pt\")\n",
    "model = YOLO(\"best.pt\")\n",
    "\n",
    "results = model(\"/Users/marcodonnarumma/Desktop/BottleAROL/BottleAROL/src/notebooks/CAP-2-4/test/images\", save=True, conf=0.3, imgsz=256)"
   ]
  },
  {
   "cell_type": "code",
   "execution_count": null,
   "metadata": {},
   "outputs": [],
   "source": [
    "from ultralytics import YOLO\n",
    "\n",
    "# Load a model\n",
    "# model = YOLO(\"runs/detect/train/weights/best.pt\")\n",
    "model = YOLO(\"best.pt\")\n",
    "\n",
    "results = model(\"ourpics/\", save=True, conf=0.3)"
   ]
  }
 ],
 "metadata": {
  "accelerator": "GPU",
  "colab": {
   "gpuType": "T4",
   "provenance": []
  },
  "kernelspec": {
   "display_name": "venv",
   "language": "python",
   "name": "python3"
  },
  "language_info": {
   "codemirror_mode": {
    "name": "ipython",
    "version": 3
   },
   "file_extension": ".py",
   "mimetype": "text/x-python",
   "name": "python",
   "nbconvert_exporter": "python",
   "pygments_lexer": "ipython3",
   "version": "3.10.14"
  },
  "vscode": {
   "interpreter": {
    "hash": "777ff5b42ea0e0da4e3b9e218e3d9ae386433733226fdd188f86fde61c251a22"
   }
  }
 },
 "nbformat": 4,
 "nbformat_minor": 0
}
