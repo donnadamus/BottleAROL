{
  "cells": [
    {
      "cell_type": "code",
      "execution_count": 29,
      "metadata": {
        "colab": {
          "base_uri": "https://localhost:8080/"
        },
        "id": "cFdPUQlmRPbN",
        "outputId": "5cc0e357-733a-4b80-c5c9-305c07fab739"
      },
      "outputs": [
        {
          "name": "stderr",
          "output_type": "stream",
          "text": [
            "python(77299) MallocStackLogging: can't turn off malloc stack logging because it was not enabled.\n"
          ]
        },
        {
          "name": "stdout",
          "output_type": "stream",
          "text": [
            "Requirement already satisfied: ultralytics in /Users/marcodonnarumma/Desktop/BottleAROL/BottleAROL/venv/lib/python3.10/site-packages (8.3.14)\n",
            "Requirement already satisfied: numpy>=1.23.0 in /Users/marcodonnarumma/Desktop/BottleAROL/BottleAROL/venv/lib/python3.10/site-packages (from ultralytics) (2.1.2)\n",
            "Requirement already satisfied: seaborn>=0.11.0 in /Users/marcodonnarumma/Desktop/BottleAROL/BottleAROL/venv/lib/python3.10/site-packages (from ultralytics) (0.13.2)\n",
            "Requirement already satisfied: opencv-python>=4.6.0 in /Users/marcodonnarumma/Desktop/BottleAROL/BottleAROL/venv/lib/python3.10/site-packages (from ultralytics) (4.10.0.84)\n",
            "Requirement already satisfied: pillow>=7.1.2 in /Users/marcodonnarumma/Desktop/BottleAROL/BottleAROL/venv/lib/python3.10/site-packages (from ultralytics) (11.0.0)\n",
            "Requirement already satisfied: py-cpuinfo in /Users/marcodonnarumma/Desktop/BottleAROL/BottleAROL/venv/lib/python3.10/site-packages (from ultralytics) (9.0.0)\n",
            "Requirement already satisfied: scipy>=1.4.1 in /Users/marcodonnarumma/Desktop/BottleAROL/BottleAROL/venv/lib/python3.10/site-packages (from ultralytics) (1.14.1)\n",
            "Requirement already satisfied: tqdm>=4.64.0 in /Users/marcodonnarumma/Desktop/BottleAROL/BottleAROL/venv/lib/python3.10/site-packages (from ultralytics) (4.66.5)\n",
            "Requirement already satisfied: pyyaml>=5.3.1 in /Users/marcodonnarumma/Desktop/BottleAROL/BottleAROL/venv/lib/python3.10/site-packages (from ultralytics) (6.0.2)\n",
            "Requirement already satisfied: torch>=1.8.0 in /Users/marcodonnarumma/Desktop/BottleAROL/BottleAROL/venv/lib/python3.10/site-packages (from ultralytics) (2.4.1)\n",
            "Requirement already satisfied: pandas>=1.1.4 in /Users/marcodonnarumma/Desktop/BottleAROL/BottleAROL/venv/lib/python3.10/site-packages (from ultralytics) (2.2.3)\n",
            "Requirement already satisfied: requests>=2.23.0 in /Users/marcodonnarumma/Desktop/BottleAROL/BottleAROL/venv/lib/python3.10/site-packages (from ultralytics) (2.32.3)\n",
            "Requirement already satisfied: psutil in /Users/marcodonnarumma/Desktop/BottleAROL/BottleAROL/venv/lib/python3.10/site-packages (from ultralytics) (6.0.0)\n",
            "Requirement already satisfied: matplotlib>=3.3.0 in /Users/marcodonnarumma/Desktop/BottleAROL/BottleAROL/venv/lib/python3.10/site-packages (from ultralytics) (3.9.2)\n",
            "Requirement already satisfied: torchvision>=0.9.0 in /Users/marcodonnarumma/Desktop/BottleAROL/BottleAROL/venv/lib/python3.10/site-packages (from ultralytics) (0.19.1)\n",
            "Requirement already satisfied: ultralytics-thop>=2.0.0 in /Users/marcodonnarumma/Desktop/BottleAROL/BottleAROL/venv/lib/python3.10/site-packages (from ultralytics) (2.0.9)\n",
            "Requirement already satisfied: packaging>=20.0 in /Users/marcodonnarumma/Desktop/BottleAROL/BottleAROL/venv/lib/python3.10/site-packages (from matplotlib>=3.3.0->ultralytics) (24.1)\n",
            "Requirement already satisfied: cycler>=0.10 in /Users/marcodonnarumma/Desktop/BottleAROL/BottleAROL/venv/lib/python3.10/site-packages (from matplotlib>=3.3.0->ultralytics) (0.12.1)\n",
            "Requirement already satisfied: contourpy>=1.0.1 in /Users/marcodonnarumma/Desktop/BottleAROL/BottleAROL/venv/lib/python3.10/site-packages (from matplotlib>=3.3.0->ultralytics) (1.3.0)\n",
            "Requirement already satisfied: fonttools>=4.22.0 in /Users/marcodonnarumma/Desktop/BottleAROL/BottleAROL/venv/lib/python3.10/site-packages (from matplotlib>=3.3.0->ultralytics) (4.54.1)\n",
            "Requirement already satisfied: python-dateutil>=2.7 in /Users/marcodonnarumma/Desktop/BottleAROL/BottleAROL/venv/lib/python3.10/site-packages (from matplotlib>=3.3.0->ultralytics) (2.9.0.post0)\n",
            "Requirement already satisfied: pyparsing>=2.3.1 in /Users/marcodonnarumma/Desktop/BottleAROL/BottleAROL/venv/lib/python3.10/site-packages (from matplotlib>=3.3.0->ultralytics) (3.2.0)\n",
            "Requirement already satisfied: kiwisolver>=1.3.1 in /Users/marcodonnarumma/Desktop/BottleAROL/BottleAROL/venv/lib/python3.10/site-packages (from matplotlib>=3.3.0->ultralytics) (1.4.7)\n",
            "Requirement already satisfied: pytz>=2020.1 in /Users/marcodonnarumma/Desktop/BottleAROL/BottleAROL/venv/lib/python3.10/site-packages (from pandas>=1.1.4->ultralytics) (2024.2)\n",
            "Requirement already satisfied: tzdata>=2022.7 in /Users/marcodonnarumma/Desktop/BottleAROL/BottleAROL/venv/lib/python3.10/site-packages (from pandas>=1.1.4->ultralytics) (2024.2)\n",
            "Requirement already satisfied: charset-normalizer<4,>=2 in /Users/marcodonnarumma/Desktop/BottleAROL/BottleAROL/venv/lib/python3.10/site-packages (from requests>=2.23.0->ultralytics) (3.4.0)\n",
            "Requirement already satisfied: urllib3<3,>=1.21.1 in /Users/marcodonnarumma/Desktop/BottleAROL/BottleAROL/venv/lib/python3.10/site-packages (from requests>=2.23.0->ultralytics) (2.2.3)\n",
            "Requirement already satisfied: certifi>=2017.4.17 in /Users/marcodonnarumma/Desktop/BottleAROL/BottleAROL/venv/lib/python3.10/site-packages (from requests>=2.23.0->ultralytics) (2024.8.30)\n",
            "Requirement already satisfied: idna<4,>=2.5 in /Users/marcodonnarumma/Desktop/BottleAROL/BottleAROL/venv/lib/python3.10/site-packages (from requests>=2.23.0->ultralytics) (3.7)\n",
            "Requirement already satisfied: networkx in /Users/marcodonnarumma/Desktop/BottleAROL/BottleAROL/venv/lib/python3.10/site-packages (from torch>=1.8.0->ultralytics) (3.4.1)\n",
            "Requirement already satisfied: filelock in /Users/marcodonnarumma/Desktop/BottleAROL/BottleAROL/venv/lib/python3.10/site-packages (from torch>=1.8.0->ultralytics) (3.16.1)\n",
            "Requirement already satisfied: fsspec in /Users/marcodonnarumma/Desktop/BottleAROL/BottleAROL/venv/lib/python3.10/site-packages (from torch>=1.8.0->ultralytics) (2024.9.0)\n",
            "Requirement already satisfied: typing-extensions>=4.8.0 in /Users/marcodonnarumma/Desktop/BottleAROL/BottleAROL/venv/lib/python3.10/site-packages (from torch>=1.8.0->ultralytics) (4.12.2)\n",
            "Requirement already satisfied: sympy in /Users/marcodonnarumma/Desktop/BottleAROL/BottleAROL/venv/lib/python3.10/site-packages (from torch>=1.8.0->ultralytics) (1.13.3)\n",
            "Requirement already satisfied: jinja2 in /Users/marcodonnarumma/Desktop/BottleAROL/BottleAROL/venv/lib/python3.10/site-packages (from torch>=1.8.0->ultralytics) (3.1.4)\n",
            "Requirement already satisfied: six>=1.5 in /Users/marcodonnarumma/Desktop/BottleAROL/BottleAROL/venv/lib/python3.10/site-packages (from python-dateutil>=2.7->matplotlib>=3.3.0->ultralytics) (1.16.0)\n",
            "Requirement already satisfied: MarkupSafe>=2.0 in /Users/marcodonnarumma/Desktop/BottleAROL/BottleAROL/venv/lib/python3.10/site-packages (from jinja2->torch>=1.8.0->ultralytics) (3.0.1)\n",
            "Requirement already satisfied: mpmath<1.4,>=1.1.0 in /Users/marcodonnarumma/Desktop/BottleAROL/BottleAROL/venv/lib/python3.10/site-packages (from sympy->torch>=1.8.0->ultralytics) (1.3.0)\n",
            "\n",
            "\u001b[1m[\u001b[0m\u001b[34;49mnotice\u001b[0m\u001b[1;39;49m]\u001b[0m\u001b[39;49m A new release of pip is available: \u001b[0m\u001b[31;49m23.0.1\u001b[0m\u001b[39;49m -> \u001b[0m\u001b[32;49m24.2\u001b[0m\n",
            "\u001b[1m[\u001b[0m\u001b[34;49mnotice\u001b[0m\u001b[1;39;49m]\u001b[0m\u001b[39;49m To update, run: \u001b[0m\u001b[32;49mpip install --upgrade pip\u001b[0m\n"
          ]
        }
      ],
      "source": [
        "!pip install ultralytics"
      ]
    },
    {
      "cell_type": "code",
      "execution_count": 31,
      "metadata": {
        "colab": {
          "base_uri": "https://localhost:8080/"
        },
        "id": "zobpxDttVIpy",
        "outputId": "e2c24e41-a5c3-4535-a63a-2abdd32d67a7"
      },
      "outputs": [
        {
          "name": "stderr",
          "output_type": "stream",
          "text": [
            "python(77401) MallocStackLogging: can't turn off malloc stack logging because it was not enabled.\n"
          ]
        },
        {
          "name": "stdout",
          "output_type": "stream",
          "text": [
            "Requirement already satisfied: roboflow in /Users/marcodonnarumma/Desktop/BottleAROL/BottleAROL/venv/lib/python3.10/site-packages (1.1.48)\n",
            "Requirement already satisfied: numpy>=1.18.5 in /Users/marcodonnarumma/Desktop/BottleAROL/BottleAROL/venv/lib/python3.10/site-packages (from roboflow) (2.1.2)\n",
            "Requirement already satisfied: requests-toolbelt in /Users/marcodonnarumma/Desktop/BottleAROL/BottleAROL/venv/lib/python3.10/site-packages (from roboflow) (1.0.0)\n",
            "Requirement already satisfied: tqdm>=4.41.0 in /Users/marcodonnarumma/Desktop/BottleAROL/BottleAROL/venv/lib/python3.10/site-packages (from roboflow) (4.66.5)\n",
            "Requirement already satisfied: kiwisolver>=1.3.1 in /Users/marcodonnarumma/Desktop/BottleAROL/BottleAROL/venv/lib/python3.10/site-packages (from roboflow) (1.4.7)\n",
            "Requirement already satisfied: opencv-python-headless==4.10.0.84 in /Users/marcodonnarumma/Desktop/BottleAROL/BottleAROL/venv/lib/python3.10/site-packages (from roboflow) (4.10.0.84)\n",
            "Requirement already satisfied: Pillow>=7.1.2 in /Users/marcodonnarumma/Desktop/BottleAROL/BottleAROL/venv/lib/python3.10/site-packages (from roboflow) (11.0.0)\n",
            "Requirement already satisfied: python-dateutil in /Users/marcodonnarumma/Desktop/BottleAROL/BottleAROL/venv/lib/python3.10/site-packages (from roboflow) (2.9.0.post0)\n",
            "Requirement already satisfied: requests in /Users/marcodonnarumma/Desktop/BottleAROL/BottleAROL/venv/lib/python3.10/site-packages (from roboflow) (2.32.3)\n",
            "Requirement already satisfied: python-dotenv in /Users/marcodonnarumma/Desktop/BottleAROL/BottleAROL/venv/lib/python3.10/site-packages (from roboflow) (1.0.1)\n",
            "Requirement already satisfied: cycler in /Users/marcodonnarumma/Desktop/BottleAROL/BottleAROL/venv/lib/python3.10/site-packages (from roboflow) (0.12.1)\n",
            "Requirement already satisfied: matplotlib in /Users/marcodonnarumma/Desktop/BottleAROL/BottleAROL/venv/lib/python3.10/site-packages (from roboflow) (3.9.2)\n",
            "Requirement already satisfied: filetype in /Users/marcodonnarumma/Desktop/BottleAROL/BottleAROL/venv/lib/python3.10/site-packages (from roboflow) (1.2.0)\n",
            "Requirement already satisfied: six in /Users/marcodonnarumma/Desktop/BottleAROL/BottleAROL/venv/lib/python3.10/site-packages (from roboflow) (1.16.0)\n",
            "Requirement already satisfied: certifi in /Users/marcodonnarumma/Desktop/BottleAROL/BottleAROL/venv/lib/python3.10/site-packages (from roboflow) (2024.8.30)\n",
            "Requirement already satisfied: idna==3.7 in /Users/marcodonnarumma/Desktop/BottleAROL/BottleAROL/venv/lib/python3.10/site-packages (from roboflow) (3.7)\n",
            "Requirement already satisfied: PyYAML>=5.3.1 in /Users/marcodonnarumma/Desktop/BottleAROL/BottleAROL/venv/lib/python3.10/site-packages (from roboflow) (6.0.2)\n",
            "Requirement already satisfied: urllib3>=1.26.6 in /Users/marcodonnarumma/Desktop/BottleAROL/BottleAROL/venv/lib/python3.10/site-packages (from roboflow) (2.2.3)\n",
            "Requirement already satisfied: contourpy>=1.0.1 in /Users/marcodonnarumma/Desktop/BottleAROL/BottleAROL/venv/lib/python3.10/site-packages (from matplotlib->roboflow) (1.3.0)\n",
            "Requirement already satisfied: packaging>=20.0 in /Users/marcodonnarumma/Desktop/BottleAROL/BottleAROL/venv/lib/python3.10/site-packages (from matplotlib->roboflow) (24.1)\n",
            "Requirement already satisfied: pyparsing>=2.3.1 in /Users/marcodonnarumma/Desktop/BottleAROL/BottleAROL/venv/lib/python3.10/site-packages (from matplotlib->roboflow) (3.2.0)\n",
            "Requirement already satisfied: fonttools>=4.22.0 in /Users/marcodonnarumma/Desktop/BottleAROL/BottleAROL/venv/lib/python3.10/site-packages (from matplotlib->roboflow) (4.54.1)\n",
            "Requirement already satisfied: charset-normalizer<4,>=2 in /Users/marcodonnarumma/Desktop/BottleAROL/BottleAROL/venv/lib/python3.10/site-packages (from requests->roboflow) (3.4.0)\n",
            "\n",
            "\u001b[1m[\u001b[0m\u001b[34;49mnotice\u001b[0m\u001b[1;39;49m]\u001b[0m\u001b[39;49m A new release of pip is available: \u001b[0m\u001b[31;49m23.0.1\u001b[0m\u001b[39;49m -> \u001b[0m\u001b[32;49m24.2\u001b[0m\n",
            "\u001b[1m[\u001b[0m\u001b[34;49mnotice\u001b[0m\u001b[1;39;49m]\u001b[0m\u001b[39;49m To update, run: \u001b[0m\u001b[32;49mpip install --upgrade pip\u001b[0m\n",
            "loading Roboflow workspace...\n",
            "loading Roboflow project...\n"
          ]
        },
        {
          "name": "stderr",
          "output_type": "stream",
          "text": [
            "Downloading Dataset Version Zip in CAP-2-4 to yolov11:: 100%|██████████| 150470/150470 [00:15<00:00, 9540.45it/s] "
          ]
        },
        {
          "name": "stdout",
          "output_type": "stream",
          "text": [
            "\n"
          ]
        },
        {
          "name": "stderr",
          "output_type": "stream",
          "text": [
            "\n",
            "Extracting Dataset Version Zip to CAP-2-4 in yolov11:: 100%|██████████| 6356/6356 [00:01<00:00, 4010.73it/s]\n"
          ]
        }
      ],
      "source": [
        "!pip install roboflow\n",
        "\n",
        "from roboflow import Roboflow\n",
        "rf = Roboflow(api_key=\"5CEachu43Ay9HG3H0i9Y\")\n",
        "project = rf.workspace(\"cap-defect-detection\").project(\"cap-2\")\n",
        "version = project.version(4)\n",
        "dataset = version.download(\"yolov11\")"
      ]
    },
    {
      "cell_type": "code",
      "execution_count": 4,
      "metadata": {
        "colab": {
          "base_uri": "https://localhost:8080/",
          "height": 1000
        },
        "id": "xTpsV7YoRJKb",
        "outputId": "368ac33a-9508-4a0b-c465-6ebcb20bc5ed"
      },
      "outputs": [
        {
          "name": "stdout",
          "output_type": "stream",
          "text": [
            "Ultralytics 8.3.14 🚀 Python-3.10.14 torch-2.4.1 MPS (Apple M1)\n",
            "\u001b[34m\u001b[1mengine/trainer: \u001b[0mtask=detect, mode=train, model=yolo11n.pt, data=CAP-2-4/data.yaml, epochs=100, time=None, patience=100, batch=16, imgsz=256, save=True, save_period=10, cache=False, device=mps, workers=8, project=None, name=train, exist_ok=True, pretrained=True, optimizer=auto, verbose=True, seed=0, deterministic=True, single_cls=False, rect=False, cos_lr=False, close_mosaic=10, resume=False, amp=True, fraction=1.0, profile=False, freeze=None, multi_scale=False, overlap_mask=True, mask_ratio=4, dropout=0.0, val=True, split=val, save_json=False, save_hybrid=False, conf=None, iou=0.7, max_det=300, half=False, dnn=False, plots=True, source=None, vid_stride=1, stream_buffer=False, visualize=False, augment=False, agnostic_nms=False, classes=None, retina_masks=False, embed=None, show=False, save_frames=False, save_txt=False, save_conf=False, save_crop=False, show_labels=True, show_conf=True, show_boxes=True, line_width=None, format=torchscript, keras=False, optimize=False, int8=False, dynamic=False, simplify=True, opset=None, workspace=4, nms=False, lr0=0.01, lrf=0.01, momentum=0.937, weight_decay=0.0005, warmup_epochs=3.0, warmup_momentum=0.8, warmup_bias_lr=0.1, box=7.5, cls=0.5, dfl=1.5, pose=12.0, kobj=1.0, label_smoothing=0.0, nbs=64, hsv_h=0.015, hsv_s=0.7, hsv_v=0.4, degrees=0.0, translate=0.1, scale=0.5, shear=0.0, perspective=0.0, flipud=0.0, fliplr=0.5, bgr=0.0, mosaic=1.0, mixup=0.0, copy_paste=0.0, copy_paste_mode=flip, auto_augment=randaugment, erasing=0.4, crop_fraction=1.0, cfg=None, tracker=botsort.yaml, save_dir=/Users/marcodonnarumma/Desktop/BottleAROL/BottleAROL/runs/detect/train\n",
            "Overriding model.yaml nc=80 with nc=5\n",
            "\n",
            "                   from  n    params  module                                       arguments                     \n",
            "  0                  -1  1       464  ultralytics.nn.modules.conv.Conv             [3, 16, 3, 2]                 \n",
            "  1                  -1  1      4672  ultralytics.nn.modules.conv.Conv             [16, 32, 3, 2]                \n",
            "  2                  -1  1      6640  ultralytics.nn.modules.block.C3k2            [32, 64, 1, False, 0.25]      \n",
            "  3                  -1  1     36992  ultralytics.nn.modules.conv.Conv             [64, 64, 3, 2]                \n",
            "  4                  -1  1     26080  ultralytics.nn.modules.block.C3k2            [64, 128, 1, False, 0.25]     \n",
            "  5                  -1  1    147712  ultralytics.nn.modules.conv.Conv             [128, 128, 3, 2]              \n",
            "  6                  -1  1     87040  ultralytics.nn.modules.block.C3k2            [128, 128, 1, True]           \n",
            "  7                  -1  1    295424  ultralytics.nn.modules.conv.Conv             [128, 256, 3, 2]              \n",
            "  8                  -1  1    346112  ultralytics.nn.modules.block.C3k2            [256, 256, 1, True]           \n",
            "  9                  -1  1    164608  ultralytics.nn.modules.block.SPPF            [256, 256, 5]                 \n",
            " 10                  -1  1    249728  ultralytics.nn.modules.block.C2PSA           [256, 256, 1]                 \n",
            " 11                  -1  1         0  torch.nn.modules.upsampling.Upsample         [None, 2, 'nearest']          \n",
            " 12             [-1, 6]  1         0  ultralytics.nn.modules.conv.Concat           [1]                           \n",
            " 13                  -1  1    111296  ultralytics.nn.modules.block.C3k2            [384, 128, 1, False]          \n",
            " 14                  -1  1         0  torch.nn.modules.upsampling.Upsample         [None, 2, 'nearest']          \n",
            " 15             [-1, 4]  1         0  ultralytics.nn.modules.conv.Concat           [1]                           \n",
            " 16                  -1  1     32096  ultralytics.nn.modules.block.C3k2            [256, 64, 1, False]           \n",
            " 17                  -1  1     36992  ultralytics.nn.modules.conv.Conv             [64, 64, 3, 2]                \n",
            " 18            [-1, 13]  1         0  ultralytics.nn.modules.conv.Concat           [1]                           \n",
            " 19                  -1  1     86720  ultralytics.nn.modules.block.C3k2            [192, 128, 1, False]          \n",
            " 20                  -1  1    147712  ultralytics.nn.modules.conv.Conv             [128, 128, 3, 2]              \n",
            " 21            [-1, 10]  1         0  ultralytics.nn.modules.conv.Concat           [1]                           \n",
            " 22                  -1  1    378880  ultralytics.nn.modules.block.C3k2            [384, 256, 1, True]           \n",
            " 23        [16, 19, 22]  1    431647  ultralytics.nn.modules.head.Detect           [5, [64, 128, 256]]           \n",
            "YOLO11n summary: 319 layers, 2,590,815 parameters, 2,590,799 gradients, 6.4 GFLOPs\n",
            "\n",
            "Transferred 448/499 items from pretrained weights\n",
            "Freezing layer 'model.23.dfl.conv.weight'\n"
          ]
        },
        {
          "name": "stderr",
          "output_type": "stream",
          "text": [
            "\u001b[34m\u001b[1mtrain: \u001b[0mScanning /Users/marcodonnarumma/Desktop/BottleAROL/BottleAROL/src/notebooks/CAP-2-4/train/labels.cache... 2772 images, 0 backgrounds, 0 corrupt: 100%|██████████| 2772/2772 [00:00<?, ?it/s]\n",
            "\u001b[34m\u001b[1mval: \u001b[0mScanning /Users/marcodonnarumma/Desktop/BottleAROL/BottleAROL/src/notebooks/CAP-2-4/valid/labels.cache... 200 images, 0 backgrounds, 0 corrupt: 100%|██████████| 200/200 [00:00<?, ?it/s]"
          ]
        },
        {
          "name": "stdout",
          "output_type": "stream",
          "text": [
            "Plotting labels to /Users/marcodonnarumma/Desktop/BottleAROL/BottleAROL/runs/detect/train/labels.jpg... \n"
          ]
        },
        {
          "name": "stderr",
          "output_type": "stream",
          "text": [
            "\n"
          ]
        },
        {
          "name": "stdout",
          "output_type": "stream",
          "text": [
            "\u001b[34m\u001b[1moptimizer:\u001b[0m 'optimizer=auto' found, ignoring 'lr0=0.01' and 'momentum=0.937' and determining best 'optimizer', 'lr0' and 'momentum' automatically... \n",
            "\u001b[34m\u001b[1moptimizer:\u001b[0m AdamW(lr=0.001111, momentum=0.9) with parameter groups 81 weight(decay=0.0), 88 weight(decay=0.0005), 87 bias(decay=0.0)\n",
            "Image sizes 256 train, 256 val\n",
            "Using 0 dataloader workers\n",
            "Logging results to \u001b[1m/Users/marcodonnarumma/Desktop/BottleAROL/BottleAROL/runs/detect/train\u001b[0m\n",
            "Starting training for 100 epochs...\n",
            "\n",
            "      Epoch    GPU_mem   box_loss   cls_loss   dfl_loss  Instances       Size\n"
          ]
        },
        {
          "name": "stderr",
          "output_type": "stream",
          "text": [
            "      1/100      4.37G      1.226      3.267      1.327         32        256:  45%|████▍     | 78/174 [04:34<05:37,  3.51s/it]\n"
          ]
        },
        {
          "ename": "KeyboardInterrupt",
          "evalue": "",
          "output_type": "error",
          "traceback": [
            "\u001b[0;31m---------------------------------------------------------------------------\u001b[0m",
            "\u001b[0;31mKeyboardInterrupt\u001b[0m                         Traceback (most recent call last)",
            "Cell \u001b[0;32mIn[4], line 9\u001b[0m\n\u001b[1;32m      4\u001b[0m model \u001b[39m=\u001b[39m YOLO(\u001b[39m\"\u001b[39m\u001b[39myolo11n.pt\u001b[39m\u001b[39m\"\u001b[39m)\n\u001b[1;32m      6\u001b[0m \u001b[39m# TODO, andare in CAP-2-4/data.yaml e mettere gli absolute paths of train, valid, test\u001b[39;00m\n\u001b[1;32m      7\u001b[0m \n\u001b[1;32m      8\u001b[0m \u001b[39m# Train the model\u001b[39;00m\n\u001b[0;32m----> 9\u001b[0m train_results \u001b[39m=\u001b[39m model\u001b[39m.\u001b[39;49mtrain(\n\u001b[1;32m     10\u001b[0m     data\u001b[39m=\u001b[39;49m\u001b[39m\"\u001b[39;49m\u001b[39mCAP-2-4/data.yaml\u001b[39;49m\u001b[39m\"\u001b[39;49m,  \u001b[39m# path to dataset YAML\u001b[39;49;00m\n\u001b[1;32m     11\u001b[0m     epochs\u001b[39m=\u001b[39;49m\u001b[39m100\u001b[39;49m,  \u001b[39m# number of training epochs\u001b[39;49;00m\n\u001b[1;32m     12\u001b[0m     save\u001b[39m=\u001b[39;49m\u001b[39mTrue\u001b[39;49;00m,\n\u001b[1;32m     13\u001b[0m     save_period\u001b[39m=\u001b[39;49m\u001b[39m10\u001b[39;49m,\n\u001b[1;32m     14\u001b[0m     exist_ok\u001b[39m=\u001b[39;49m\u001b[39mTrue\u001b[39;49;00m,\n\u001b[1;32m     15\u001b[0m     device\u001b[39m=\u001b[39;49m\u001b[39m\"\u001b[39;49m\u001b[39mmps\u001b[39;49m\u001b[39m\"\u001b[39;49m,\n\u001b[1;32m     16\u001b[0m     imgsz\u001b[39m=\u001b[39;49m\u001b[39m256\u001b[39;49m\n\u001b[1;32m     17\u001b[0m )\n",
            "File \u001b[0;32m~/Desktop/BottleAROL/BottleAROL/venv/lib/python3.10/site-packages/ultralytics/engine/model.py:802\u001b[0m, in \u001b[0;36mModel.train\u001b[0;34m(self, trainer, **kwargs)\u001b[0m\n\u001b[1;32m    799\u001b[0m     \u001b[39mself\u001b[39m\u001b[39m.\u001b[39mmodel \u001b[39m=\u001b[39m \u001b[39mself\u001b[39m\u001b[39m.\u001b[39mtrainer\u001b[39m.\u001b[39mmodel\n\u001b[1;32m    801\u001b[0m \u001b[39mself\u001b[39m\u001b[39m.\u001b[39mtrainer\u001b[39m.\u001b[39mhub_session \u001b[39m=\u001b[39m \u001b[39mself\u001b[39m\u001b[39m.\u001b[39msession  \u001b[39m# attach optional HUB session\u001b[39;00m\n\u001b[0;32m--> 802\u001b[0m \u001b[39mself\u001b[39;49m\u001b[39m.\u001b[39;49mtrainer\u001b[39m.\u001b[39;49mtrain()\n\u001b[1;32m    803\u001b[0m \u001b[39m# Update model and cfg after training\u001b[39;00m\n\u001b[1;32m    804\u001b[0m \u001b[39mif\u001b[39;00m RANK \u001b[39min\u001b[39;00m {\u001b[39m-\u001b[39m\u001b[39m1\u001b[39m, \u001b[39m0\u001b[39m}:\n",
            "File \u001b[0;32m~/Desktop/BottleAROL/BottleAROL/venv/lib/python3.10/site-packages/ultralytics/engine/trainer.py:207\u001b[0m, in \u001b[0;36mBaseTrainer.train\u001b[0;34m(self)\u001b[0m\n\u001b[1;32m    204\u001b[0m         ddp_cleanup(\u001b[39mself\u001b[39m, \u001b[39mstr\u001b[39m(file))\n\u001b[1;32m    206\u001b[0m \u001b[39melse\u001b[39;00m:\n\u001b[0;32m--> 207\u001b[0m     \u001b[39mself\u001b[39;49m\u001b[39m.\u001b[39;49m_do_train(world_size)\n",
            "File \u001b[0;32m~/Desktop/BottleAROL/BottleAROL/venv/lib/python3.10/site-packages/ultralytics/engine/trainer.py:385\u001b[0m, in \u001b[0;36mBaseTrainer._do_train\u001b[0;34m(self, world_size)\u001b[0m\n\u001b[1;32m    383\u001b[0m \u001b[39mwith\u001b[39;00m autocast(\u001b[39mself\u001b[39m\u001b[39m.\u001b[39mamp):\n\u001b[1;32m    384\u001b[0m     batch \u001b[39m=\u001b[39m \u001b[39mself\u001b[39m\u001b[39m.\u001b[39mpreprocess_batch(batch)\n\u001b[0;32m--> 385\u001b[0m     \u001b[39mself\u001b[39m\u001b[39m.\u001b[39mloss, \u001b[39mself\u001b[39m\u001b[39m.\u001b[39mloss_items \u001b[39m=\u001b[39m \u001b[39mself\u001b[39;49m\u001b[39m.\u001b[39;49mmodel(batch)\n\u001b[1;32m    386\u001b[0m     \u001b[39mif\u001b[39;00m RANK \u001b[39m!=\u001b[39m \u001b[39m-\u001b[39m\u001b[39m1\u001b[39m:\n\u001b[1;32m    387\u001b[0m         \u001b[39mself\u001b[39m\u001b[39m.\u001b[39mloss \u001b[39m*\u001b[39m\u001b[39m=\u001b[39m world_size\n",
            "File \u001b[0;32m~/Desktop/BottleAROL/BottleAROL/venv/lib/python3.10/site-packages/torch/nn/modules/module.py:1553\u001b[0m, in \u001b[0;36mModule._wrapped_call_impl\u001b[0;34m(self, *args, **kwargs)\u001b[0m\n\u001b[1;32m   1551\u001b[0m     \u001b[39mreturn\u001b[39;00m \u001b[39mself\u001b[39m\u001b[39m.\u001b[39m_compiled_call_impl(\u001b[39m*\u001b[39margs, \u001b[39m*\u001b[39m\u001b[39m*\u001b[39mkwargs)  \u001b[39m# type: ignore[misc]\u001b[39;00m\n\u001b[1;32m   1552\u001b[0m \u001b[39melse\u001b[39;00m:\n\u001b[0;32m-> 1553\u001b[0m     \u001b[39mreturn\u001b[39;00m \u001b[39mself\u001b[39;49m\u001b[39m.\u001b[39;49m_call_impl(\u001b[39m*\u001b[39;49margs, \u001b[39m*\u001b[39;49m\u001b[39m*\u001b[39;49mkwargs)\n",
            "File \u001b[0;32m~/Desktop/BottleAROL/BottleAROL/venv/lib/python3.10/site-packages/torch/nn/modules/module.py:1562\u001b[0m, in \u001b[0;36mModule._call_impl\u001b[0;34m(self, *args, **kwargs)\u001b[0m\n\u001b[1;32m   1557\u001b[0m \u001b[39m# If we don't have any hooks, we want to skip the rest of the logic in\u001b[39;00m\n\u001b[1;32m   1558\u001b[0m \u001b[39m# this function, and just call forward.\u001b[39;00m\n\u001b[1;32m   1559\u001b[0m \u001b[39mif\u001b[39;00m \u001b[39mnot\u001b[39;00m (\u001b[39mself\u001b[39m\u001b[39m.\u001b[39m_backward_hooks \u001b[39mor\u001b[39;00m \u001b[39mself\u001b[39m\u001b[39m.\u001b[39m_backward_pre_hooks \u001b[39mor\u001b[39;00m \u001b[39mself\u001b[39m\u001b[39m.\u001b[39m_forward_hooks \u001b[39mor\u001b[39;00m \u001b[39mself\u001b[39m\u001b[39m.\u001b[39m_forward_pre_hooks\n\u001b[1;32m   1560\u001b[0m         \u001b[39mor\u001b[39;00m _global_backward_pre_hooks \u001b[39mor\u001b[39;00m _global_backward_hooks\n\u001b[1;32m   1561\u001b[0m         \u001b[39mor\u001b[39;00m _global_forward_hooks \u001b[39mor\u001b[39;00m _global_forward_pre_hooks):\n\u001b[0;32m-> 1562\u001b[0m     \u001b[39mreturn\u001b[39;00m forward_call(\u001b[39m*\u001b[39;49margs, \u001b[39m*\u001b[39;49m\u001b[39m*\u001b[39;49mkwargs)\n\u001b[1;32m   1564\u001b[0m \u001b[39mtry\u001b[39;00m:\n\u001b[1;32m   1565\u001b[0m     result \u001b[39m=\u001b[39m \u001b[39mNone\u001b[39;00m\n",
            "File \u001b[0;32m~/Desktop/BottleAROL/BottleAROL/venv/lib/python3.10/site-packages/ultralytics/nn/tasks.py:111\u001b[0m, in \u001b[0;36mBaseModel.forward\u001b[0;34m(self, x, *args, **kwargs)\u001b[0m\n\u001b[1;32m     97\u001b[0m \u001b[39m\u001b[39m\u001b[39m\"\"\"\u001b[39;00m\n\u001b[1;32m     98\u001b[0m \u001b[39mPerform forward pass of the model for either training or inference.\u001b[39;00m\n\u001b[1;32m     99\u001b[0m \n\u001b[0;32m   (...)\u001b[0m\n\u001b[1;32m    108\u001b[0m \u001b[39m    (torch.Tensor): Loss if x is a dict (training), or network predictions (inference).\u001b[39;00m\n\u001b[1;32m    109\u001b[0m \u001b[39m\"\"\"\u001b[39;00m\n\u001b[1;32m    110\u001b[0m \u001b[39mif\u001b[39;00m \u001b[39misinstance\u001b[39m(x, \u001b[39mdict\u001b[39m):  \u001b[39m# for cases of training and validating while training.\u001b[39;00m\n\u001b[0;32m--> 111\u001b[0m     \u001b[39mreturn\u001b[39;00m \u001b[39mself\u001b[39;49m\u001b[39m.\u001b[39;49mloss(x, \u001b[39m*\u001b[39;49margs, \u001b[39m*\u001b[39;49m\u001b[39m*\u001b[39;49mkwargs)\n\u001b[1;32m    112\u001b[0m \u001b[39mreturn\u001b[39;00m \u001b[39mself\u001b[39m\u001b[39m.\u001b[39mpredict(x, \u001b[39m*\u001b[39margs, \u001b[39m*\u001b[39m\u001b[39m*\u001b[39mkwargs)\n",
            "File \u001b[0;32m~/Desktop/BottleAROL/BottleAROL/venv/lib/python3.10/site-packages/ultralytics/nn/tasks.py:293\u001b[0m, in \u001b[0;36mBaseModel.loss\u001b[0;34m(self, batch, preds)\u001b[0m\n\u001b[1;32m    290\u001b[0m     \u001b[39mself\u001b[39m\u001b[39m.\u001b[39mcriterion \u001b[39m=\u001b[39m \u001b[39mself\u001b[39m\u001b[39m.\u001b[39minit_criterion()\n\u001b[1;32m    292\u001b[0m preds \u001b[39m=\u001b[39m \u001b[39mself\u001b[39m\u001b[39m.\u001b[39mforward(batch[\u001b[39m\"\u001b[39m\u001b[39mimg\u001b[39m\u001b[39m\"\u001b[39m]) \u001b[39mif\u001b[39;00m preds \u001b[39mis\u001b[39;00m \u001b[39mNone\u001b[39;00m \u001b[39melse\u001b[39;00m preds\n\u001b[0;32m--> 293\u001b[0m \u001b[39mreturn\u001b[39;00m \u001b[39mself\u001b[39;49m\u001b[39m.\u001b[39;49mcriterion(preds, batch)\n",
            "File \u001b[0;32m~/Desktop/BottleAROL/BottleAROL/venv/lib/python3.10/site-packages/ultralytics/utils/loss.py:253\u001b[0m, in \u001b[0;36mv8DetectionLoss.__call__\u001b[0;34m(self, preds, batch)\u001b[0m\n\u001b[1;32m    251\u001b[0m \u001b[39mif\u001b[39;00m fg_mask\u001b[39m.\u001b[39msum():\n\u001b[1;32m    252\u001b[0m     target_bboxes \u001b[39m/\u001b[39m\u001b[39m=\u001b[39m stride_tensor\n\u001b[0;32m--> 253\u001b[0m     loss[\u001b[39m0\u001b[39m], loss[\u001b[39m2\u001b[39m] \u001b[39m=\u001b[39m \u001b[39mself\u001b[39;49m\u001b[39m.\u001b[39;49mbbox_loss(\n\u001b[1;32m    254\u001b[0m         pred_distri, pred_bboxes, anchor_points, target_bboxes, target_scores, target_scores_sum, fg_mask\n\u001b[1;32m    255\u001b[0m     )\n\u001b[1;32m    257\u001b[0m loss[\u001b[39m0\u001b[39m] \u001b[39m*\u001b[39m\u001b[39m=\u001b[39m \u001b[39mself\u001b[39m\u001b[39m.\u001b[39mhyp\u001b[39m.\u001b[39mbox  \u001b[39m# box gain\u001b[39;00m\n\u001b[1;32m    258\u001b[0m loss[\u001b[39m1\u001b[39m] \u001b[39m*\u001b[39m\u001b[39m=\u001b[39m \u001b[39mself\u001b[39m\u001b[39m.\u001b[39mhyp\u001b[39m.\u001b[39mcls  \u001b[39m# cls gain\u001b[39;00m\n",
            "File \u001b[0;32m~/Desktop/BottleAROL/BottleAROL/venv/lib/python3.10/site-packages/torch/nn/modules/module.py:1553\u001b[0m, in \u001b[0;36mModule._wrapped_call_impl\u001b[0;34m(self, *args, **kwargs)\u001b[0m\n\u001b[1;32m   1551\u001b[0m     \u001b[39mreturn\u001b[39;00m \u001b[39mself\u001b[39m\u001b[39m.\u001b[39m_compiled_call_impl(\u001b[39m*\u001b[39margs, \u001b[39m*\u001b[39m\u001b[39m*\u001b[39mkwargs)  \u001b[39m# type: ignore[misc]\u001b[39;00m\n\u001b[1;32m   1552\u001b[0m \u001b[39melse\u001b[39;00m:\n\u001b[0;32m-> 1553\u001b[0m     \u001b[39mreturn\u001b[39;00m \u001b[39mself\u001b[39;49m\u001b[39m.\u001b[39;49m_call_impl(\u001b[39m*\u001b[39;49margs, \u001b[39m*\u001b[39;49m\u001b[39m*\u001b[39;49mkwargs)\n",
            "File \u001b[0;32m~/Desktop/BottleAROL/BottleAROL/venv/lib/python3.10/site-packages/torch/nn/modules/module.py:1562\u001b[0m, in \u001b[0;36mModule._call_impl\u001b[0;34m(self, *args, **kwargs)\u001b[0m\n\u001b[1;32m   1557\u001b[0m \u001b[39m# If we don't have any hooks, we want to skip the rest of the logic in\u001b[39;00m\n\u001b[1;32m   1558\u001b[0m \u001b[39m# this function, and just call forward.\u001b[39;00m\n\u001b[1;32m   1559\u001b[0m \u001b[39mif\u001b[39;00m \u001b[39mnot\u001b[39;00m (\u001b[39mself\u001b[39m\u001b[39m.\u001b[39m_backward_hooks \u001b[39mor\u001b[39;00m \u001b[39mself\u001b[39m\u001b[39m.\u001b[39m_backward_pre_hooks \u001b[39mor\u001b[39;00m \u001b[39mself\u001b[39m\u001b[39m.\u001b[39m_forward_hooks \u001b[39mor\u001b[39;00m \u001b[39mself\u001b[39m\u001b[39m.\u001b[39m_forward_pre_hooks\n\u001b[1;32m   1560\u001b[0m         \u001b[39mor\u001b[39;00m _global_backward_pre_hooks \u001b[39mor\u001b[39;00m _global_backward_hooks\n\u001b[1;32m   1561\u001b[0m         \u001b[39mor\u001b[39;00m _global_forward_hooks \u001b[39mor\u001b[39;00m _global_forward_pre_hooks):\n\u001b[0;32m-> 1562\u001b[0m     \u001b[39mreturn\u001b[39;00m forward_call(\u001b[39m*\u001b[39;49margs, \u001b[39m*\u001b[39;49m\u001b[39m*\u001b[39;49mkwargs)\n\u001b[1;32m   1564\u001b[0m \u001b[39mtry\u001b[39;00m:\n\u001b[1;32m   1565\u001b[0m     result \u001b[39m=\u001b[39m \u001b[39mNone\u001b[39;00m\n",
            "File \u001b[0;32m~/Desktop/BottleAROL/BottleAROL/venv/lib/python3.10/site-packages/ultralytics/utils/loss.py:108\u001b[0m, in \u001b[0;36mBboxLoss.forward\u001b[0;34m(self, pred_dist, pred_bboxes, anchor_points, target_bboxes, target_scores, target_scores_sum, fg_mask)\u001b[0m\n\u001b[1;32m    106\u001b[0m \u001b[39mif\u001b[39;00m \u001b[39mself\u001b[39m\u001b[39m.\u001b[39mdfl_loss:\n\u001b[1;32m    107\u001b[0m     target_ltrb \u001b[39m=\u001b[39m bbox2dist(anchor_points, target_bboxes, \u001b[39mself\u001b[39m\u001b[39m.\u001b[39mdfl_loss\u001b[39m.\u001b[39mreg_max \u001b[39m-\u001b[39m \u001b[39m1\u001b[39m)\n\u001b[0;32m--> 108\u001b[0m     loss_dfl \u001b[39m=\u001b[39m \u001b[39mself\u001b[39;49m\u001b[39m.\u001b[39;49mdfl_loss(pred_dist[fg_mask]\u001b[39m.\u001b[39;49mview(\u001b[39m-\u001b[39;49m\u001b[39m1\u001b[39;49m, \u001b[39mself\u001b[39;49m\u001b[39m.\u001b[39;49mdfl_loss\u001b[39m.\u001b[39;49mreg_max), target_ltrb[fg_mask]) \u001b[39m*\u001b[39m weight\n\u001b[1;32m    109\u001b[0m     loss_dfl \u001b[39m=\u001b[39m loss_dfl\u001b[39m.\u001b[39msum() \u001b[39m/\u001b[39m target_scores_sum\n\u001b[1;32m    110\u001b[0m \u001b[39melse\u001b[39;00m:\n",
            "File \u001b[0;32m~/Desktop/BottleAROL/BottleAROL/venv/lib/python3.10/site-packages/ultralytics/utils/loss.py:81\u001b[0m, in \u001b[0;36mDFLoss.__call__\u001b[0;34m(self, pred_dist, target)\u001b[0m\n\u001b[1;32m     74\u001b[0m \u001b[39m\u001b[39m\u001b[39m\"\"\"\u001b[39;00m\n\u001b[1;32m     75\u001b[0m \u001b[39mReturn sum of left and right DFL losses.\u001b[39;00m\n\u001b[1;32m     76\u001b[0m \n\u001b[1;32m     77\u001b[0m \u001b[39mDistribution Focal Loss (DFL) proposed in Generalized Focal Loss\u001b[39;00m\n\u001b[1;32m     78\u001b[0m \u001b[39mhttps://ieeexplore.ieee.org/document/9792391\u001b[39;00m\n\u001b[1;32m     79\u001b[0m \u001b[39m\"\"\"\u001b[39;00m\n\u001b[1;32m     80\u001b[0m target \u001b[39m=\u001b[39m target\u001b[39m.\u001b[39mclamp_(\u001b[39m0\u001b[39m, \u001b[39mself\u001b[39m\u001b[39m.\u001b[39mreg_max \u001b[39m-\u001b[39m \u001b[39m1\u001b[39m \u001b[39m-\u001b[39m \u001b[39m0.01\u001b[39m)\n\u001b[0;32m---> 81\u001b[0m tl \u001b[39m=\u001b[39m target\u001b[39m.\u001b[39;49mlong()  \u001b[39m# target left\u001b[39;00m\n\u001b[1;32m     82\u001b[0m tr \u001b[39m=\u001b[39m tl \u001b[39m+\u001b[39m \u001b[39m1\u001b[39m  \u001b[39m# target right\u001b[39;00m\n\u001b[1;32m     83\u001b[0m wl \u001b[39m=\u001b[39m tr \u001b[39m-\u001b[39m target  \u001b[39m# weight left\u001b[39;00m\n",
            "\u001b[0;31mKeyboardInterrupt\u001b[0m: "
          ]
        }
      ],
      "source": [
        "from ultralytics import YOLO\n",
        "\n",
        "# Load a model with pretrained weights\n",
        "model = YOLO(\"yolo11n.pt\")\n",
        "\n",
        "# TODO, andare in CAP-2-4/data.yaml e mettere gli absolute paths of train, valid, test\n",
        "\n",
        "# Train the model\n",
        "train_results = model.train(\n",
        "    data=\"CAP-2-4/data.yaml\",  # path to dataset YAML\n",
        "    epochs=100,  # number of training epochs\n",
        "    save=True,\n",
        "    save_period=10,\n",
        "    exist_ok=True,\n",
        "    device=\"mps\",\n",
        "    imgsz=256\n",
        ")"
      ]
    },
    {
      "cell_type": "code",
      "execution_count": null,
      "metadata": {
        "colab": {
          "base_uri": "https://localhost:8080/"
        },
        "id": "yz-xbPb6HzSx",
        "outputId": "bd37f5c3-2083-44f0-d624-4c7919506536"
      },
      "outputs": [
        {
          "name": "stdout",
          "output_type": "stream",
          "text": [
            "\n",
            "image 1/200 /content/CAP-2-4/test/images/106_jpg.rf.46965769200a1cf08c995b02fc3b2a7d.jpg: 640x640 1 defect, 8.1ms\n",
            "image 2/200 /content/CAP-2-4/test/images/107_jpg.rf.fdaa932ef304235332bb918af9b97b2c.jpg: 640x640 1 defect, 9.2ms\n",
            "image 3/200 /content/CAP-2-4/test/images/108_jpg.rf.90d9e46ef2fcfc6bb39d97c0d0e070ea.jpg: 640x640 1 defect, 8.4ms\n",
            "image 4/200 /content/CAP-2-4/test/images/109_jpg.rf.012a6176f7c322516e43a5441a47a616.jpg: 640x640 1 defect, 9.6ms\n",
            "image 5/200 /content/CAP-2-4/test/images/110_jpg.rf.b1a68a3ddc8608073c817158b68f5544.jpg: 640x640 1 defect, 8.2ms\n",
            "image 6/200 /content/CAP-2-4/test/images/111_jpg.rf.4eab08218e581d32db9972d0f262b680.jpg: 640x640 1 defect, 9.7ms\n",
            "image 7/200 /content/CAP-2-4/test/images/112_jpg.rf.5afc46c495ce93c811ffa320c6e6a155.jpg: 640x640 1 defect, 8.6ms\n",
            "image 8/200 /content/CAP-2-4/test/images/113_jpg.rf.8e44a1dced9d601d06a4399751238752.jpg: 640x640 1 defect, 8.5ms\n",
            "image 9/200 /content/CAP-2-4/test/images/114_jpg.rf.dc8c10f65b53a57ac10f52ba1a9193e7.jpg: 640x640 1 defect, 8.7ms\n",
            "image 10/200 /content/CAP-2-4/test/images/115_jpg.rf.e6824829b64100c0b48900031bb9dfc0.jpg: 640x640 1 defect, 8.6ms\n",
            "image 11/200 /content/CAP-2-4/test/images/133_jpg.rf.2dcd1f814538af8a2800fa7c4f9d5470.jpg: 640x640 1 broken, 8.7ms\n",
            "image 12/200 /content/CAP-2-4/test/images/134_jpg.rf.767b1b2a9487ebb79e820e912c5b8530.jpg: 640x640 1 broken, 10.6ms\n",
            "image 13/200 /content/CAP-2-4/test/images/135_jpg.rf.68bfa6cd525fdc64f097f6b6ba33e850.jpg: 640x640 1 broken, 8.5ms\n",
            "image 14/200 /content/CAP-2-4/test/images/136_jpg.rf.90a63b91d341ece7714a271cf9b202e3.jpg: 640x640 1 broken, 8.3ms\n",
            "image 15/200 /content/CAP-2-4/test/images/138_jpg.rf.7d36f0f3a1946c06e44e399ed16087c4.jpg: 640x640 1 broken, 8.3ms\n",
            "image 16/200 /content/CAP-2-4/test/images/14_jpg.rf.0f94dad0970d89b13753d607b484c61e.jpg: 640x640 1 broken, 1 defect, 9.1ms\n",
            "image 17/200 /content/CAP-2-4/test/images/14_jpg.rf.52a526685556e5b536198794285dff96.jpg: 640x640 1 Good Cap, 9.9ms\n",
            "image 18/200 /content/CAP-2-4/test/images/156_jpg.rf.6dc0db399aef1be085d487f6eaf105c5.jpg: 640x640 1 broken, 1 defect, 8.3ms\n",
            "image 19/200 /content/CAP-2-4/test/images/157_jpg.rf.a7473556015ed29199764ffc03935b17.jpg: 640x640 1 broken, 1 defect, 8.4ms\n",
            "image 20/200 /content/CAP-2-4/test/images/158_jpg.rf.9cc908bcedbe50d225c6eb71325e93de.jpg: 640x640 1 broken, 1 defect, 8.3ms\n",
            "image 21/200 /content/CAP-2-4/test/images/15_jpg.rf.b545f77ade132d32be1ae0ff97d24e8d.jpg: 640x640 1 broken, 1 defect, 8.4ms\n",
            "image 22/200 /content/CAP-2-4/test/images/160_jpg.rf.352762d9c5750da2ca627cb537904218.jpg: 640x640 1 broken, 9.7ms\n",
            "image 23/200 /content/CAP-2-4/test/images/160_jpg.rf.ca5aa8f819df966f6ba0ebb55c01bcfa.jpg: 640x640 1 defect, 9.0ms\n",
            "image 24/200 /content/CAP-2-4/test/images/161_jpg.rf.1cb0250a60160a2123745d52bd92d9c7.jpg: 640x640 1 broken, 8.9ms\n",
            "image 25/200 /content/CAP-2-4/test/images/16_jpg.rf.36ef92fd331257e8b055f479e73fc7d5.jpg: 640x640 1 broken, 16.6ms\n",
            "image 26/200 /content/CAP-2-4/test/images/17_jpg.rf.bb5836fef8a8fed1dd8eb46ab2036d6d.jpg: 640x640 1 broken, 1 defect, 16.1ms\n",
            "image 27/200 /content/CAP-2-4/test/images/182_jpg.rf.ca425a0054f3d725fb9e171ba4da8c58.jpg: 640x640 1 defect, 12.5ms\n",
            "image 28/200 /content/CAP-2-4/test/images/184_jpg.rf.d67230e272463ff5200c6ce8bc3bd1ae.jpg: 640x640 1 defect, 12.6ms\n",
            "image 29/200 /content/CAP-2-4/test/images/187_jpg.rf.335afa7f2c86548f9cc4de165319a207.jpg: 640x640 1 defect, 12.0ms\n",
            "image 30/200 /content/CAP-2-4/test/images/195_jpg.rf.2672733407c0d4eb8a758a143d389109.jpg: 640x640 1 defect, 12.8ms\n",
            "image 31/200 /content/CAP-2-4/test/images/19_jpg.rf.b575db354696218def5dcd686701b2e0.jpg: 640x640 1 broken, 1 defect, 13.2ms\n",
            "image 32/200 /content/CAP-2-4/test/images/205_jpg.rf.4d4c5de5d06fd38cf4660794a0250d2b.jpg: 640x640 1 defect, 11.9ms\n",
            "image 33/200 /content/CAP-2-4/test/images/20_jpg.rf.1a6260ce32e3345d4e1074e36391e0fe.jpg: 640x640 1 broken, 13.9ms\n",
            "image 34/200 /content/CAP-2-4/test/images/214_jpg.rf.f55b01a42955561091a4254a64d82a5d.jpg: 640x640 1 defect, 8.9ms\n",
            "image 35/200 /content/CAP-2-4/test/images/217_jpg.rf.872da01cf9e94b0636500c5f6be67d44.jpg: 640x640 1 defect, 10.1ms\n",
            "image 36/200 /content/CAP-2-4/test/images/21_jpg.rf.b2b4847d7638e98642e52eb3d34d253f.jpg: 640x640 1 broken, 1 defect, 8.5ms\n",
            "image 37/200 /content/CAP-2-4/test/images/23_jpg.rf.3fc1f75fa7320324143b966286265287.jpg: 640x640 1 broken, 9.7ms\n",
            "image 38/200 /content/CAP-2-4/test/images/23_jpg.rf.a1064b9784bb7bfb1411d451043b8097.jpg: 640x640 1 No Cap, 9.1ms\n",
            "image 39/200 /content/CAP-2-4/test/images/24_jpg.rf.2c648cf443fbf3afae14a8e7846b5876.jpg: 640x640 1 broken, 8.7ms\n",
            "image 40/200 /content/CAP-2-4/test/images/252_jpg.rf.c51dea5f5e48637359262e49adbee118.jpg: 640x640 1 defect, 9.6ms\n",
            "image 41/200 /content/CAP-2-4/test/images/25_jpg.rf.627cb46d0585a4a13f22a0a3fb99e20a.jpg: 640x640 1 No Cap, 9.4ms\n",
            "image 42/200 /content/CAP-2-4/test/images/301_jpg.rf.be1027f1b2b07f09ed0b7b24bffe1d6a.jpg: 640x640 1 defect, 8.8ms\n",
            "image 43/200 /content/CAP-2-4/test/images/304_jpg.rf.5c3ddf22d9b7542ddaa4e55b4d930d59.jpg: 640x640 1 defect, 8.7ms\n",
            "image 44/200 /content/CAP-2-4/test/images/325_jpg.rf.97385a102f1daeb0270166654d824bb1.jpg: 640x640 1 Loose Cap, 1 defect, 8.6ms\n",
            "image 45/200 /content/CAP-2-4/test/images/332_jpg.rf.d2a56655e1c103d59e13e903a009c2d2.jpg: 640x640 1 defect, 8.3ms\n",
            "image 46/200 /content/CAP-2-4/test/images/356_jpg.rf.01c18831ca79f6f7581df4ca7ca85d19.jpg: 640x640 1 Good Cap, 9.5ms\n",
            "image 47/200 /content/CAP-2-4/test/images/362_jpg.rf.5670b7764b1f19d7376801b38dc9b50c.jpg: 640x640 1 Good Cap, 8.4ms\n",
            "image 48/200 /content/CAP-2-4/test/images/363_jpg.rf.430983c73f46c91840d2ba009d8fc9df.jpg: 640x640 1 Good Cap, 8.7ms\n",
            "image 49/200 /content/CAP-2-4/test/images/37_jpg.rf.1924884d60a62f0bb9411a447060c867.jpg: 640x640 1 No Cap, 8.0ms\n",
            "image 50/200 /content/CAP-2-4/test/images/37_jpg.rf.a8d6114bed5767d5a1b357c47f07b988.jpg: 640x640 1 No Cap, 9.3ms\n",
            "image 51/200 /content/CAP-2-4/test/images/383_jpg.rf.e76d11488d242f982413770871c5d861.jpg: 640x640 1 Good Cap, 8.6ms\n",
            "image 52/200 /content/CAP-2-4/test/images/38_jpg.rf.b9e39c613a35a92db38b80761e78079a.jpg: 640x640 1 broken, 8.5ms\n",
            "image 53/200 /content/CAP-2-4/test/images/39_jpg.rf.050fca5a520669bcb6ce4d2cf9bf221b.jpg: 640x640 1 defect, 8.8ms\n",
            "image 54/200 /content/CAP-2-4/test/images/40_jpg.rf.316b18a1ff805b0d3fbf3cba8d5c3326.jpg: 640x640 1 defect, 8.5ms\n",
            "image 55/200 /content/CAP-2-4/test/images/41_jpg.rf.22c90d6637727fc5838f663e707cda80.jpg: 640x640 1 defect, 8.4ms\n",
            "image 56/200 /content/CAP-2-4/test/images/41_jpg.rf.80f1208c5b4bb475f15ac8aabd71d77b.jpg: 640x640 1 broken, 9.6ms\n",
            "image 57/200 /content/CAP-2-4/test/images/42_jpg.rf.514eeec38dc02000fb5ee541b1335368.jpg: 640x640 1 broken, 10.5ms\n",
            "image 58/200 /content/CAP-2-4/test/images/431_jpg.rf.64cf2f7363fa6e582ee1b50dbbbce6bc.jpg: 640x640 1 Good Cap, 9.2ms\n",
            "image 59/200 /content/CAP-2-4/test/images/438_jpg.rf.20f95f3f8f0ffe0071caaa06ab9bd2b4.jpg: 640x640 1 defect, 8.8ms\n",
            "image 60/200 /content/CAP-2-4/test/images/43_jpg.rf.2df13841192ce2901811d762c8976b33.jpg: 640x640 1 broken, 1 defect, 8.4ms\n",
            "image 61/200 /content/CAP-2-4/test/images/444_jpg.rf.fd67978dc4c1854d54bb4239b41bb8d1.jpg: 640x640 1 Good Cap, 1 defect, 8.5ms\n",
            "image 62/200 /content/CAP-2-4/test/images/44_jpg.rf.3da2e1e74d702b3b2097f31367112406.jpg: 640x640 1 defect, 10.2ms\n",
            "image 63/200 /content/CAP-2-4/test/images/45-Copy_jpg.rf.457f22db51fdba35cf4ad52f97fe53e7.jpg: 640x640 1 broken, 10.3ms\n",
            "image 64/200 /content/CAP-2-4/test/images/45_jpg.rf.c858e44ec3b1a73be798fd748827c0e5.jpg: 640x640 1 defect, 9.6ms\n",
            "image 65/200 /content/CAP-2-4/test/images/468_jpg.rf.fad8eea6ea5ada6cceb4bac1ab917f8a.jpg: 640x640 1 defect, 9.6ms\n",
            "image 66/200 /content/CAP-2-4/test/images/46_jpg.rf.8f8ec2528097b264e3b0df8ba66d51f1.jpg: 640x640 1 defect, 9.3ms\n",
            "image 67/200 /content/CAP-2-4/test/images/474-Copy_jpg.rf.b499807aa013b1beb945f1fecd5cf99b.jpg: 640x640 1 defect, 9.1ms\n",
            "image 68/200 /content/CAP-2-4/test/images/474_jpg.rf.bfaf5941d3a36e8aeb7412bb9ecf1bc2.jpg: 640x640 1 defect, 10.1ms\n",
            "image 69/200 /content/CAP-2-4/test/images/47_jpg.rf.f3b3b0abcfacbc5b1c316a4780e3a402.jpg: 640x640 1 broken, 9.6ms\n",
            "image 70/200 /content/CAP-2-4/test/images/482_jpg.rf.ed0444e30533d90aaec212fa480e1e12.jpg: 640x640 1 defect, 10.0ms\n",
            "image 71/200 /content/CAP-2-4/test/images/487_jpg.rf.2cef8dd1f90423d92bce11007fd1e649.jpg: 640x640 1 defect, 10.0ms\n",
            "image 72/200 /content/CAP-2-4/test/images/496_jpg.rf.1d2b07775c4a627172adea7f3d0f90d1.jpg: 640x640 1 defect, 10.0ms\n",
            "image 73/200 /content/CAP-2-4/test/images/502_jpg.rf.fcca65e7887bdd5971793ee2a543124f.jpg: 640x640 1 defect, 9.8ms\n",
            "image 74/200 /content/CAP-2-4/test/images/508_jpg.rf.7f18ab4db7a3b7d2a568d0e4c3472d2c.jpg: 640x640 1 defect, 11.0ms\n",
            "image 75/200 /content/CAP-2-4/test/images/61_jpg.rf.4e0ebf65ba91b3e46a5941c79974ebe2.jpg: 640x640 1 broken, 13.6ms\n",
            "image 76/200 /content/CAP-2-4/test/images/62_jpg.rf.5b3991bce086419974730cff110f6378.jpg: 640x640 1 broken, 16.0ms\n",
            "image 77/200 /content/CAP-2-4/test/images/63_jpg.rf.f97d724a2e1c303cb362ef90a949113a.jpg: 640x640 1 broken, 13.1ms\n",
            "image 78/200 /content/CAP-2-4/test/images/65_jpg.rf.8c886760a24ceba079721aab2e4ad892.jpg: 640x640 1 broken, 1 defect, 13.5ms\n",
            "image 79/200 /content/CAP-2-4/test/images/66_jpg.rf.27ee5a7d3cc4f9f15194ba50873448b8.jpg: 640x640 1 broken, 1 defect, 11.3ms\n",
            "image 80/200 /content/CAP-2-4/test/images/68_jpg.rf.fe1985d58543ddb7794d8d1a8df2794a.jpg: 640x640 1 broken, 12.0ms\n",
            "image 81/200 /content/CAP-2-4/test/images/69_jpg.rf.807b4cc7f711a6f01a000f6504ca3d25.jpg: 640x640 1 broken, 11.1ms\n",
            "image 82/200 /content/CAP-2-4/test/images/6_jpg.rf.df11cdd9c59c6cbdda8ba00df92d87f7.jpg: 640x640 1 No Cap, 10.2ms\n",
            "image 83/200 /content/CAP-2-4/test/images/77_jpg.rf.dfbacbe635cbd25d8d6aa7334e58186e.jpg: 640x640 1 broken, 11.4ms\n",
            "image 84/200 /content/CAP-2-4/test/images/78_jpg.rf.819fb550179177ee9793b6ae2c5cb388.jpg: 640x640 1 broken, 12.5ms\n",
            "image 85/200 /content/CAP-2-4/test/images/79_jpg.rf.7c031a03a903e0c60cf6a7109ba2289e.jpg: 640x640 1 broken, 12.9ms\n",
            "image 86/200 /content/CAP-2-4/test/images/7_jpg.rf.1dc24a2f81faeac9fee0cfa8f331f98e.jpg: 640x640 1 Loose Cap, 9.5ms\n",
            "image 87/200 /content/CAP-2-4/test/images/81_jpg.rf.3ed8ab523eeaef26dec93d23cb7e373d.jpg: 640x640 1 broken, 8.8ms\n",
            "image 88/200 /content/CAP-2-4/test/images/85_jpg.rf.b2a5dbc31169a09e83be12b0ca23bbb4.jpg: 640x640 1 Loose Cap, 1 defect, 8.9ms\n",
            "image 89/200 /content/CAP-2-4/test/images/WIN_20220701_14_51_47_Pro_jpg.rf.8b7c04e711b54f3974a0b1968d011fd2.jpg: 640x640 1 Loose Cap, 1 broken, 8.5ms\n",
            "image 90/200 /content/CAP-2-4/test/images/WIN_20220701_14_55_19_Pro_jpg.rf.bbf5b2f8e3e4f5336895bd5af368ceb9.jpg: 640x640 1 Loose Cap, 8.4ms\n",
            "image 91/200 /content/CAP-2-4/test/images/WIN_20220701_14_56_33_Pro_jpg.rf.eaf6943438bb5c6234e0e3d6212cfdc2.jpg: 640x640 1 broken, 8.5ms\n",
            "image 92/200 /content/CAP-2-4/test/images/WIN_20220701_14_59_00_Pro_jpg.rf.309bb1c52dc889149d8b9504f6cd0ad4.jpg: 640x640 1 Loose Cap, 8.7ms\n",
            "image 93/200 /content/CAP-2-4/test/images/WIN_20220701_15_17_07_Pro_jpg.rf.8962625c756d96e9a544bf62234c6850.jpg: 640x640 1 broken, 8.3ms\n",
            "image 94/200 /content/CAP-2-4/test/images/WIN_20220701_15_17_23_Pro_jpg.rf.2782aa6e59e28e8a51990f8fff59e4f4.jpg: 640x640 1 broken, 8.6ms\n",
            "image 95/200 /content/CAP-2-4/test/images/WIN_20220701_16_10_53_Pro_jpg.rf.e8dab3f75aee36d2a0d84c90201e47c4.jpg: 640x640 1 Good Cap, 9.0ms\n",
            "image 96/200 /content/CAP-2-4/test/images/WIN_20220701_16_35_07_Pro_jpg.rf.4635fb16bcb74bee96b7aa14f32d6d6f.jpg: 640x640 1 Good Cap, 8.2ms\n",
            "image 97/200 /content/CAP-2-4/test/images/WIN_20220701_16_52_38_Pro_jpg.rf.35450c6e08349a99e500d19c2978f262.jpg: 640x640 1 Good Cap, 9.4ms\n",
            "image 98/200 /content/CAP-2-4/test/images/WIN_20220701_16_53_31_Pro_jpg.rf.8c48daf4401bb4b16fd9068541a2620c.jpg: 640x640 1 Good Cap, 8.2ms\n",
            "image 99/200 /content/CAP-2-4/test/images/WIN_20220701_16_53_59_Pro_jpg.rf.a1a089cd8fdb17aa788d28522090ff84.jpg: 640x640 1 Good Cap, 8.4ms\n",
            "image 100/200 /content/CAP-2-4/test/images/WIN_20220701_16_57_53_Pro_jpg.rf.fc0ba19d0df05d0d38632542dcee883b.jpg: 640x640 1 Good Cap, 11.4ms\n",
            "image 101/200 /content/CAP-2-4/test/images/WIN_20220701_17_12_07_Pro_jpg.rf.e2ab4fd01879cfbf3649a9c15b168ae2.jpg: 640x640 1 Loose Cap, 9.5ms\n",
            "image 102/200 /content/CAP-2-4/test/images/WIN_20220701_17_12_35_Pro_jpg.rf.6787a5d0923d8c1fe7a049a97a192ddb.jpg: 640x640 1 Good Cap, 9.4ms\n",
            "image 103/200 /content/CAP-2-4/test/images/WIN_20220701_17_13_05_Pro_jpg.rf.f4cf679057b9eff15141fa478fc440fc.jpg: 640x640 1 Good Cap, 8.4ms\n",
            "image 104/200 /content/CAP-2-4/test/images/WIN_20220701_17_13_31_Pro_jpg.rf.48ebaa3d2c49dbf48acf296ea60c4af5.jpg: 640x640 1 Good Cap, 8.4ms\n",
            "image 105/200 /content/CAP-2-4/test/images/WIN_20220701_17_13_50_Pro_jpg.rf.188252e33a4c7d365940d36d03ac4f38.jpg: 640x640 1 Good Cap, 8.4ms\n",
            "image 106/200 /content/CAP-2-4/test/images/WIN_20220704_14_48_31_Pro_jpg.rf.5e1e24dd5f714a38f974b4535c9436c7.jpg: 640x640 1 Loose Cap, 10.1ms\n",
            "image 107/200 /content/CAP-2-4/test/images/WIN_20220704_15_22_48_Pro_jpg.rf.22b5e616c9860aa84a5189c05ff1f7e2.jpg: 640x640 1 Loose Cap, 3 brokens, 8.7ms\n",
            "image 108/200 /content/CAP-2-4/test/images/WIN_20220704_15_23_43_Pro_jpg.rf.b58b6b7557679ab298cad2b6d01eed8d.jpg: 640x640 1 Loose Cap, 8.4ms\n",
            "image 109/200 /content/CAP-2-4/test/images/WIN_20220704_15_24_28_Pro_jpg.rf.ac33688ed687ad2005227494c8c7107b.jpg: 640x640 1 Loose Cap, 1 broken, 8.5ms\n",
            "image 110/200 /content/CAP-2-4/test/images/WIN_20220704_15_25_36_Pro_jpg.rf.9a727a81e2d9dd072b02cb8d04ac17ba.jpg: 640x640 1 Good Cap, 1 broken, 11.3ms\n",
            "image 111/200 /content/CAP-2-4/test/images/WIN_20220704_15_25_58_Pro_jpg.rf.f6200dbbaf619740dd6703a8546af048.jpg: 640x640 1 Loose Cap, 8.5ms\n",
            "image 112/200 /content/CAP-2-4/test/images/WIN_20220704_15_26_07_Pro_jpg.rf.18822d40eea6e1aa61271dd1b258fb54.jpg: 640x640 1 Loose Cap, 8.4ms\n",
            "image 113/200 /content/CAP-2-4/test/images/WIN_20220704_15_28_14_Pro_jpg.rf.c31df1f6bab3ad7223618d4a69401a17.jpg: 640x640 1 Loose Cap, 9.5ms\n",
            "image 114/200 /content/CAP-2-4/test/images/WIN_20220704_15_32_42_Pro_jpg.rf.8a4c392a39f71ab828f974eba51f8540.jpg: 640x640 1 Loose Cap, 8.5ms\n",
            "image 115/200 /content/CAP-2-4/test/images/WIN_20220704_15_33_31_Pro_jpg.rf.5f41e0d7e55ab73b6232a3d918a0a94d.jpg: 640x640 1 Loose Cap, 2 brokens, 8.2ms\n",
            "image 116/200 /content/CAP-2-4/test/images/WIN_20220704_15_34_57_Pro_jpg.rf.0237ecd109ca88f305208e9cefe3238f.jpg: 640x640 1 Loose Cap, 1 broken, 8.4ms\n",
            "image 117/200 /content/CAP-2-4/test/images/WIN_20220704_15_36_04_Pro_jpg.rf.a907b2bfc7f418a9588e4918da1d4fee.jpg: 640x640 1 Good Cap, 9.5ms\n",
            "image 118/200 /content/CAP-2-4/test/images/WIN_20220704_15_44_42_Pro_jpg.rf.786ede6e759950e09734b35e1ac46750.jpg: 640x640 1 Good Cap, 8.4ms\n",
            "image 119/200 /content/CAP-2-4/test/images/WIN_20220704_15_49_05_Pro_jpg.rf.56485c0cf5ba5ea20181720d8e2dcb99.jpg: 640x640 1 Good Cap, 8.5ms\n",
            "image 120/200 /content/CAP-2-4/test/images/WIN_20220704_15_55_27_Pro_jpg.rf.f08e70ac1e07bb165e3b1edf3c3c25b0.jpg: 640x640 1 Good Cap, 8.5ms\n",
            "image 121/200 /content/CAP-2-4/test/images/WIN_20220704_16_01_29_Pro_jpg.rf.e619b2b4ae2b3514c2a09251118384cd.jpg: 640x640 1 Good Cap, 9.6ms\n",
            "image 122/200 /content/CAP-2-4/test/images/WIN_20220704_16_02_48_Pro_jpg.rf.d9e9d3a30337c25230ae3d83b8ef74c1.jpg: 640x640 1 Good Cap, 8.4ms\n",
            "image 123/200 /content/CAP-2-4/test/images/WIN_20220704_16_03_53_Pro_jpg.rf.0085d399208fd112842141243f00324b.jpg: 640x640 1 Good Cap, 8.6ms\n",
            "image 124/200 /content/CAP-2-4/test/images/WIN_20220704_16_06_34_Pro_jpg.rf.1e16058a5a99fed91334b9d7a656c12c.jpg: 640x640 1 Good Cap, 8.1ms\n",
            "image 125/200 /content/CAP-2-4/test/images/WIN_20220704_16_07_54_Pro_jpg.rf.0f004a77be0955481bdfae7259d50bca.jpg: 640x640 1 Good Cap, 13.5ms\n",
            "image 126/200 /content/CAP-2-4/test/images/WIN_20220704_16_14_11_Pro_jpg.rf.848b74e2d65587399222a1f94a888d11.jpg: 640x640 1 Good Cap, 13.6ms\n",
            "image 127/200 /content/CAP-2-4/test/images/WIN_20220704_16_14_44_Pro_jpg.rf.8f5de78bac9655312bbf04d80e077ffa.jpg: 640x640 1 Good Cap, 10.8ms\n",
            "image 128/200 /content/CAP-2-4/test/images/WIN_20220704_16_15_57_Pro_jpg.rf.71f0a797b474f06ac306024ba8bef8cf.jpg: 640x640 1 Good Cap, 18.1ms\n",
            "image 129/200 /content/CAP-2-4/test/images/WIN_20220704_16_17_22_Pro_jpg.rf.e18df551385c1fda3b2c9a3746eabf3a.jpg: 640x640 1 Good Cap, 17.3ms\n",
            "image 130/200 /content/CAP-2-4/test/images/WIN_20220704_16_20_43_Pro_jpg.rf.cdac7da751830e545d723355ae17e81e.jpg: 640x640 1 Good Cap, 1 broken, 13.3ms\n",
            "image 131/200 /content/CAP-2-4/test/images/WIN_20220704_16_27_44_Pro_jpg.rf.c944a1e30bef70a0068ec7dd987a1887.jpg: 640x640 1 No Cap, 13.2ms\n",
            "image 132/200 /content/CAP-2-4/test/images/WIN_20220704_16_28_54_Pro_jpg.rf.5bf981ce2dd8f02c1275d9a142dec622.jpg: 640x640 1 No Cap, 13.3ms\n",
            "image 133/200 /content/CAP-2-4/test/images/WIN_20220704_16_29_33_Pro_jpg.rf.0ae33f0a76a1bbe0d2a5943850c65b0d.jpg: 640x640 1 No Cap, 11.3ms\n",
            "image 134/200 /content/CAP-2-4/test/images/WIN_20220704_16_29_50_Pro_jpg.rf.0b24a5aa71589b9d8f529e8cb4591319.jpg: 640x640 1 No Cap, 1 broken, 16.4ms\n",
            "image 135/200 /content/CAP-2-4/test/images/WIN_20220704_16_36_09_Pro_jpg.rf.1794fd6ea0c51c76ffd8485662805638.jpg: 640x640 1 No Cap, 12.6ms\n",
            "image 136/200 /content/CAP-2-4/test/images/WIN_20220704_16_40_51_Pro_jpg.rf.3ff14031d88213ada4a035ea344262be.jpg: 640x640 1 No Cap, 12.2ms\n",
            "image 137/200 /content/CAP-2-4/test/images/WIN_20220704_16_40_59_Pro_jpg.rf.7e52d741909479dfd98f387145e68e87.jpg: 640x640 1 No Cap, 9.0ms\n",
            "image 138/200 /content/CAP-2-4/test/images/WIN_20220704_16_47_48_Pro_jpg.rf.7e5398b267df6363f70f8280c7ada1d5.jpg: 640x640 1 No Cap, 8.3ms\n",
            "image 139/200 /content/CAP-2-4/test/images/WIN_20220704_16_52_26_Pro_jpg.rf.ccf4f2b3ea257cedd705d98671b8b795.jpg: 640x640 1 No Cap, 10.1ms\n",
            "image 140/200 /content/CAP-2-4/test/images/WIN_20220704_17_15_22_Pro_jpg.rf.5dafccf904bc791283dfac9a1c204ff5.jpg: 640x640 1 No Cap, 8.6ms\n",
            "image 141/200 /content/CAP-2-4/test/images/WIN_20220704_17_15_42_Pro_jpg.rf.15c9890f5ce3fc0311a3945e84799b18.jpg: 640x640 1 No Cap, 8.8ms\n",
            "image 142/200 /content/CAP-2-4/test/images/WIN_20220705_13_56_04_Pro_jpg.rf.174cc1ae673d4f09fe5b99b4af40087b.jpg: 640x640 1 No Cap, 8.7ms\n",
            "image 143/200 /content/CAP-2-4/test/images/WIN_20220705_13_58_27_Pro_jpg.rf.80ef3975c19f7da8c4acca45da4a9eab.jpg: 640x640 1 No Cap, 8.4ms\n",
            "image 144/200 /content/CAP-2-4/test/images/WIN_20220705_13_58_40_Pro_jpg.rf.f6fe21024254c3688edaf0a54fd8e2f1.jpg: 640x640 1 No Cap, 10.2ms\n",
            "image 145/200 /content/CAP-2-4/test/images/WIN_20220705_14_14_22_Pro_jpg.rf.0a3c81bc32d98092f3fe3a39d86169a3.jpg: 640x640 1 No Cap, 8.8ms\n",
            "image 146/200 /content/CAP-2-4/test/images/WIN_20220705_14_19_33_Pro_jpg.rf.50ca14899ff7d38250d7f288a49b17d5.jpg: 640x640 1 No Cap, 8.6ms\n",
            "image 147/200 /content/CAP-2-4/test/images/WIN_20220705_15_50_04_Pro_jpg.rf.5d3ad02009cb5117378dad387d38a810.jpg: 640x640 1 No Cap, 8.4ms\n",
            "image 148/200 /content/CAP-2-4/test/images/WIN_20221108_15_37_55_Pro_jpg.rf.9ad4e2f7772eaa538bfe7d5840b81bb9.jpg: 640x640 1 Loose Cap, 8.2ms\n",
            "image 149/200 /content/CAP-2-4/test/images/WIN_20221108_15_38_00_Pro_jpg.rf.440d4a60232ddd61743adba859978801.jpg: 640x640 1 Loose Cap, 10.1ms\n",
            "image 150/200 /content/CAP-2-4/test/images/WIN_20221108_15_38_08_Pro_jpg.rf.8a572f62932c3977efc3a6b175d7ce78.jpg: 640x640 1 Loose Cap, 8.3ms\n",
            "image 151/200 /content/CAP-2-4/test/images/WIN_20221108_15_39_04_Pro_jpg.rf.89ad4bc702fb24210a2fd8997fd19b99.jpg: 640x640 1 Loose Cap, 8.3ms\n",
            "image 152/200 /content/CAP-2-4/test/images/WIN_20221108_15_39_10_Pro_jpg.rf.1c5594a73ef5fa9762f3edbcfd20bc15.jpg: 640x640 1 Loose Cap, 8.4ms\n",
            "image 153/200 /content/CAP-2-4/test/images/WIN_20221108_15_39_15_Pro_jpg.rf.cfc6caa2269dfe0e91fec3185ca7b178.jpg: 640x640 1 Loose Cap, 8.5ms\n",
            "image 154/200 /content/CAP-2-4/test/images/WIN_20221108_15_39_46_Pro_jpg.rf.0eadf453cf48cd0004193d632068099a.jpg: 640x640 1 Loose Cap, 1 broken, 9.5ms\n",
            "image 155/200 /content/CAP-2-4/test/images/WIN_20221108_15_41_55_Pro_jpg.rf.d6c1013bbfedfeca14fa16ea400c8b2b.jpg: 640x640 1 Loose Cap, 8.5ms\n",
            "image 156/200 /content/CAP-2-4/test/images/WIN_20221108_15_42_03_Pro_jpg.rf.becff4b0ead12c8bc07e6369ea5dee6d.jpg: 640x640 1 Loose Cap, 12.8ms\n",
            "image 157/200 /content/CAP-2-4/test/images/WIN_20221108_15_42_09_Pro_jpg.rf.0ec7816f6e2939839c4ccb5b41bb8883.jpg: 640x640 1 Loose Cap, 8.8ms\n",
            "image 158/200 /content/CAP-2-4/test/images/WIN_20221108_15_42_36_Pro_jpg.rf.524ed63c044b4678ea7edcebfa21eaed.jpg: 640x640 1 Good Cap, 8.7ms\n",
            "image 159/200 /content/CAP-2-4/test/images/WIN_20221108_15_45_44_Pro_jpg.rf.0a92e9b74adb741b176d7bd6e209d0ef.jpg: 640x640 1 Loose Cap, 1 broken, 8.5ms\n",
            "image 160/200 /content/CAP-2-4/test/images/WIN_20221108_15_45_51_Pro_jpg.rf.f756f072cfe1ce7f79db822324fb1519.jpg: 640x640 1 Loose Cap, 8.6ms\n",
            "image 161/200 /content/CAP-2-4/test/images/WIN_20221108_15_45_58_Pro_jpg.rf.40ac3ab5100c1138542a958c8630bc89.jpg: 640x640 1 Loose Cap, 1 broken, 11.8ms\n",
            "image 162/200 /content/CAP-2-4/test/images/WIN_20221108_15_46_06_Pro_jpg.rf.5414cf0d39bb779d37612e45e4d4568b.jpg: 640x640 1 broken, 8.8ms\n",
            "image 163/200 /content/CAP-2-4/test/images/WIN_20221108_15_46_15_Pro_jpg.rf.316aa500abbf0bc8d36c7166ffb7f281.jpg: 640x640 1 Loose Cap, 9.9ms\n",
            "image 164/200 /content/CAP-2-4/test/images/WIN_20221108_15_46_39_Pro_jpg.rf.596debe22d2dbe1a3335e17cbf9174ba.jpg: 640x640 1 Loose Cap, 9.7ms\n",
            "image 165/200 /content/CAP-2-4/test/images/WIN_20221108_15_46_44_Pro_jpg.rf.83933369ae47aea0664c665316f68db2.jpg: 640x640 1 Loose Cap, 8.6ms\n",
            "image 166/200 /content/CAP-2-4/test/images/WIN_20221108_15_46_48_Pro_jpg.rf.b4134d0bff2689b9f69f400d88a2e28c.jpg: 640x640 1 Loose Cap, 8.8ms\n",
            "image 167/200 /content/CAP-2-4/test/images/WIN_20221108_15_48_28_Pro_jpg.rf.81291e28cfa16f929613643bac82d384.jpg: 640x640 1 Loose Cap, 9.7ms\n",
            "image 168/200 /content/CAP-2-4/test/images/WIN_20221108_15_48_34_Pro_jpg.rf.cebf3316c38f1229e02fc0d32ba61177.jpg: 640x640 1 Loose Cap, 10.7ms\n",
            "image 169/200 /content/CAP-2-4/test/images/WIN_20221108_15_48_39_Pro_jpg.rf.250593fe2b67081514bcbd67aa6d3075.jpg: 640x640 1 Loose Cap, 8.5ms\n",
            "image 170/200 /content/CAP-2-4/test/images/WIN_20221108_15_48_57_Pro_jpg.rf.5b956799330b02707fb13bfd37cf37ae.jpg: 640x640 1 Loose Cap, 1 broken, 8.7ms\n",
            "image 171/200 /content/CAP-2-4/test/images/WIN_20221108_15_49_03_Pro_jpg.rf.0f8f3acd68502b56cf1f316a1d54c892.jpg: 640x640 1 Loose Cap, 1 broken, 8.5ms\n",
            "image 172/200 /content/CAP-2-4/test/images/WIN_20221108_15_49_07_Pro_jpg.rf.16a45d51d78826da9e1cc378941aa91a.jpg: 640x640 1 Loose Cap, 1 broken, 9.0ms\n",
            "image 173/200 /content/CAP-2-4/test/images/WIN_20221108_15_49_13_Pro_jpg.rf.1083488ea26af815873b362a85897d86.jpg: 640x640 1 Loose Cap, 8.4ms\n",
            "image 174/200 /content/CAP-2-4/test/images/WIN_20221108_15_50_19_Pro_jpg.rf.a2222d04864a37cede07b04ba4675b2d.jpg: 640x640 1 Loose Cap, 14.3ms\n",
            "image 175/200 /content/CAP-2-4/test/images/WIN_20221108_15_50_24_Pro_jpg.rf.8f91efbdebc43b8bccf40aa5accaa189.jpg: 640x640 1 Loose Cap, 12.2ms\n",
            "image 176/200 /content/CAP-2-4/test/images/WIN_20221108_15_50_28_Pro_jpg.rf.18a27ebfadedb08275312f87b5519b7b.jpg: 640x640 1 Loose Cap, 10.8ms\n",
            "image 177/200 /content/CAP-2-4/test/images/WIN_20221108_15_57_09_Pro_jpg.rf.3c842a43b0a1944968fdd8bcc6de4f24.jpg: 640x640 1 broken, 11.8ms\n",
            "image 178/200 /content/CAP-2-4/test/images/WIN_20221108_15_57_16_Pro_jpg.rf.81b798e5c0db426685b0d794bbb54cf1.jpg: 640x640 3 brokens, 13.0ms\n",
            "image 179/200 /content/CAP-2-4/test/images/WIN_20221108_15_57_29_Pro_jpg.rf.b9cc475407cb25585d0c7499579f5f58.jpg: 640x640 2 brokens, 17.2ms\n",
            "image 180/200 /content/CAP-2-4/test/images/WIN_20221108_15_57_37_Pro_jpg.rf.e633d48ecc3157e1e3156c17089c57db.jpg: 640x640 1 broken, 13.6ms\n",
            "image 181/200 /content/CAP-2-4/test/images/WIN_20221108_15_57_41_Pro_jpg.rf.75e8d8f68fcf631a7fc5a6c7c0a20734.jpg: 640x640 2 brokens, 11.6ms\n",
            "image 182/200 /content/CAP-2-4/test/images/WIN_20221108_16_02_16_Pro_jpg.rf.2ae4dfe2aa46ac8757c34539bdd45418.jpg: 640x640 1 Loose Cap, 12.5ms\n",
            "image 183/200 /content/CAP-2-4/test/images/WIN_20221108_16_02_35_Pro_jpg.rf.3d151ddc972fb3880817824f5f466488.jpg: 640x640 1 Loose Cap, 13.2ms\n",
            "image 184/200 /content/CAP-2-4/test/images/WIN_20221108_16_02_38_Pro_jpg.rf.3f2d58e1dea3ef691a19d5e94efb7898.jpg: 640x640 1 Loose Cap, 12.3ms\n",
            "image 185/200 /content/CAP-2-4/test/images/WIN_20221108_16_03_15_Pro_jpg.rf.5fd8004257aef84b81d6ae601d2f648e.jpg: 640x640 1 Loose Cap, 9.1ms\n",
            "image 186/200 /content/CAP-2-4/test/images/WIN_20221108_16_03_22_Pro_jpg.rf.4ecdc2e5adc5213118093966c48e127a.jpg: 640x640 1 Loose Cap, 1 broken, 8.8ms\n",
            "image 187/200 /content/CAP-2-4/test/images/WIN_20221108_16_03_28_Pro_jpg.rf.c0a68ec20167ddec2fb52d3aef1894f6.jpg: 640x640 1 Loose Cap, 1 broken, 9.3ms\n",
            "image 188/200 /content/CAP-2-4/test/images/WIN_20221108_16_03_56_Pro_jpg.rf.fe4b66805ede4668e335344707597e4c.jpg: 640x640 1 broken, 8.8ms\n",
            "image 189/200 /content/CAP-2-4/test/images/WIN_20221108_16_04_02_Pro_jpg.rf.78a0086d92316b0f4cf86f043b63f157.jpg: 640x640 1 broken, 9.7ms\n",
            "image 190/200 /content/CAP-2-4/test/images/WIN_20221108_16_04_06_Pro_jpg.rf.00432917447141eabdd54de8a42fdb64.jpg: 640x640 2 brokens, 8.9ms\n",
            "image 191/200 /content/CAP-2-4/test/images/WIN_20221108_16_04_11_Pro_jpg.rf.494f6bb9c40104eb1384c0d7bdbf8547.jpg: 640x640 2 brokens, 9.0ms\n",
            "image 192/200 /content/CAP-2-4/test/images/WIN_20221108_16_06_00_Pro_jpg.rf.946da0f849fec995f10d7b4c6f404238.jpg: 640x640 1 Loose Cap, 10.2ms\n",
            "image 193/200 /content/CAP-2-4/test/images/WIN_20221108_16_06_05_Pro_jpg.rf.3f63a3244158faa9dd62b92f85d43fb5.jpg: 640x640 1 Loose Cap, 8.7ms\n",
            "image 194/200 /content/CAP-2-4/test/images/WIN_20221108_16_06_09_Pro_jpg.rf.0f65f9eb0d3a9db67948ac8415c56acc.jpg: 640x640 1 Loose Cap, 8.7ms\n",
            "image 195/200 /content/CAP-2-4/test/images/WIN_20221108_16_07_02_Pro_jpg.rf.ee591e4b2b6970fc36de05c4ebc64d92.jpg: 640x640 1 broken, 8.6ms\n",
            "image 196/200 /content/CAP-2-4/test/images/WIN_20221108_16_07_07_Pro_jpg.rf.213489b595b30c923453f0f03627c2e8.jpg: 640x640 2 brokens, 8.5ms\n",
            "image 197/200 /content/CAP-2-4/test/images/WIN_20221108_16_07_13_Pro_jpg.rf.1c6d9ed13f0ed23baba22c7aa9665bc9.jpg: 640x640 2 brokens, 9.6ms\n",
            "image 198/200 /content/CAP-2-4/test/images/WIN_20221108_16_08_49_Pro_jpg.rf.4645c4e11777a7dd8bd6288970c1acc9.jpg: 640x640 1 Loose Cap, 8.7ms\n",
            "image 199/200 /content/CAP-2-4/test/images/WIN_20221108_16_08_53_Pro_jpg.rf.cf3f77c5abf26217e5808e9f9582cc63.jpg: 640x640 1 Loose Cap, 8.5ms\n",
            "image 200/200 /content/CAP-2-4/test/images/WIN_20221108_16_08_57_Pro_jpg.rf.1a70029c00151bf46e6221cebbc862a6.jpg: 640x640 1 Loose Cap, 8.8ms\n",
            "Speed: 2.2ms preprocess, 9.9ms inference, 1.3ms postprocess per image at shape (1, 3, 640, 640)\n",
            "Results saved to \u001b[1mruns/detect/predict\u001b[0m\n"
          ]
        }
      ],
      "source": [
        "from ultralytics import YOLO\n",
        "\n",
        "# Load a model\n",
        "model = YOLO(\"runs/detect/train/weights/best.pt\")\n",
        "\n",
        "results = model(\"/Users/marcodonnarumma/Desktop/BottleAROL/BottleAROL/src/notebooks/CAP-2-4/test/images\", save=True, conf=0.3)"
      ]
    }
  ],
  "metadata": {
    "accelerator": "GPU",
    "colab": {
      "gpuType": "T4",
      "provenance": []
    },
    "kernelspec": {
      "display_name": "venv",
      "language": "python",
      "name": "python3"
    },
    "language_info": {
      "codemirror_mode": {
        "name": "ipython",
        "version": 3
      },
      "file_extension": ".py",
      "mimetype": "text/x-python",
      "name": "python",
      "nbconvert_exporter": "python",
      "pygments_lexer": "ipython3",
      "version": "3.10.14"
    },
    "vscode": {
      "interpreter": {
        "hash": "777ff5b42ea0e0da4e3b9e218e3d9ae386433733226fdd188f86fde61c251a22"
      }
    }
  },
  "nbformat": 4,
  "nbformat_minor": 0
}
